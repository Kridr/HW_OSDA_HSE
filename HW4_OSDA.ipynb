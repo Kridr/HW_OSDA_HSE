{
  "nbformat": 4,
  "nbformat_minor": 0,
  "metadata": {
    "colab": {
      "provenance": [],
      "authorship_tag": "ABX9TyPL0SwAoqQ6GDLaTlH1/IMq",
      "include_colab_link": true
    },
    "kernelspec": {
      "name": "python3",
      "display_name": "Python 3"
    },
    "language_info": {
      "name": "python"
    }
  },
  "cells": [
    {
      "cell_type": "markdown",
      "metadata": {
        "id": "view-in-github",
        "colab_type": "text"
      },
      "source": [
        "<a href=\"https://colab.research.google.com/github/Kridr/HW_OSDA_HSE/blob/main/HW4_OSDA.ipynb\" target=\"_parent\"><img src=\"https://colab.research.google.com/assets/colab-badge.svg\" alt=\"Open In Colab\"/></a>"
      ]
    },
    {
      "cell_type": "markdown",
      "source": [
        "# Close-by-One algorithm from \"Algorithms for the Construction of Concept Lattices and Their Diagram Graphs\""
      ],
      "metadata": {
        "id": "u6KvLwgBR20l"
      }
    },
    {
      "cell_type": "markdown",
      "source": [
        "Literally magic library"
      ],
      "metadata": {
        "id": "aU6XNpPQ9wT_"
      }
    },
    {
      "cell_type": "code",
      "execution_count": 1,
      "metadata": {
        "id": "guvblscRFnYe"
      },
      "outputs": [],
      "source": [
        "import pandas as pd"
      ]
    },
    {
      "cell_type": "markdown",
      "source": [
        "Matrix of objects and attributes for Task 1"
      ],
      "metadata": {
        "id": "mIiRZ5oj9ptm"
      }
    },
    {
      "cell_type": "code",
      "source": [
        "matrix = pd.DataFrame(\n",
        "    columns=['a', 'b', 'c', 'd'],\n",
        "    index=[1, 2, 3, 4, 5],\n",
        "    data=[\n",
        "        [0, 1, 1, 1],\n",
        "        [1, 1, 1, 0],\n",
        "        [0, 1, 1, 0],\n",
        "        [1, 0, 0, 1],\n",
        "        [1, 1, 0, 1]\n",
        "    ]\n",
        ")\n",
        "\n",
        "matrix"
      ],
      "metadata": {
        "colab": {
          "base_uri": "https://localhost:8080/",
          "height": 206
        },
        "id": "lW9vLjwkIAek",
        "outputId": "87193e64-ba49-470f-853d-2b1804b03d52"
      },
      "execution_count": 2,
      "outputs": [
        {
          "output_type": "execute_result",
          "data": {
            "text/plain": [
              "   a  b  c  d\n",
              "1  0  1  1  1\n",
              "2  1  1  1  0\n",
              "3  0  1  1  0\n",
              "4  1  0  0  1\n",
              "5  1  1  0  1"
            ],
            "text/html": [
              "\n",
              "  <div id=\"df-8ad2861b-ead4-4659-b727-498e16616896\">\n",
              "    <div class=\"colab-df-container\">\n",
              "      <div>\n",
              "<style scoped>\n",
              "    .dataframe tbody tr th:only-of-type {\n",
              "        vertical-align: middle;\n",
              "    }\n",
              "\n",
              "    .dataframe tbody tr th {\n",
              "        vertical-align: top;\n",
              "    }\n",
              "\n",
              "    .dataframe thead th {\n",
              "        text-align: right;\n",
              "    }\n",
              "</style>\n",
              "<table border=\"1\" class=\"dataframe\">\n",
              "  <thead>\n",
              "    <tr style=\"text-align: right;\">\n",
              "      <th></th>\n",
              "      <th>a</th>\n",
              "      <th>b</th>\n",
              "      <th>c</th>\n",
              "      <th>d</th>\n",
              "    </tr>\n",
              "  </thead>\n",
              "  <tbody>\n",
              "    <tr>\n",
              "      <th>1</th>\n",
              "      <td>0</td>\n",
              "      <td>1</td>\n",
              "      <td>1</td>\n",
              "      <td>1</td>\n",
              "    </tr>\n",
              "    <tr>\n",
              "      <th>2</th>\n",
              "      <td>1</td>\n",
              "      <td>1</td>\n",
              "      <td>1</td>\n",
              "      <td>0</td>\n",
              "    </tr>\n",
              "    <tr>\n",
              "      <th>3</th>\n",
              "      <td>0</td>\n",
              "      <td>1</td>\n",
              "      <td>1</td>\n",
              "      <td>0</td>\n",
              "    </tr>\n",
              "    <tr>\n",
              "      <th>4</th>\n",
              "      <td>1</td>\n",
              "      <td>0</td>\n",
              "      <td>0</td>\n",
              "      <td>1</td>\n",
              "    </tr>\n",
              "    <tr>\n",
              "      <th>5</th>\n",
              "      <td>1</td>\n",
              "      <td>1</td>\n",
              "      <td>0</td>\n",
              "      <td>1</td>\n",
              "    </tr>\n",
              "  </tbody>\n",
              "</table>\n",
              "</div>\n",
              "      <button class=\"colab-df-convert\" onclick=\"convertToInteractive('df-8ad2861b-ead4-4659-b727-498e16616896')\"\n",
              "              title=\"Convert this dataframe to an interactive table.\"\n",
              "              style=\"display:none;\">\n",
              "        \n",
              "  <svg xmlns=\"http://www.w3.org/2000/svg\" height=\"24px\"viewBox=\"0 0 24 24\"\n",
              "       width=\"24px\">\n",
              "    <path d=\"M0 0h24v24H0V0z\" fill=\"none\"/>\n",
              "    <path d=\"M18.56 5.44l.94 2.06.94-2.06 2.06-.94-2.06-.94-.94-2.06-.94 2.06-2.06.94zm-11 1L8.5 8.5l.94-2.06 2.06-.94-2.06-.94L8.5 2.5l-.94 2.06-2.06.94zm10 10l.94 2.06.94-2.06 2.06-.94-2.06-.94-.94-2.06-.94 2.06-2.06.94z\"/><path d=\"M17.41 7.96l-1.37-1.37c-.4-.4-.92-.59-1.43-.59-.52 0-1.04.2-1.43.59L10.3 9.45l-7.72 7.72c-.78.78-.78 2.05 0 2.83L4 21.41c.39.39.9.59 1.41.59.51 0 1.02-.2 1.41-.59l7.78-7.78 2.81-2.81c.8-.78.8-2.07 0-2.86zM5.41 20L4 18.59l7.72-7.72 1.47 1.35L5.41 20z\"/>\n",
              "  </svg>\n",
              "      </button>\n",
              "      \n",
              "  <style>\n",
              "    .colab-df-container {\n",
              "      display:flex;\n",
              "      flex-wrap:wrap;\n",
              "      gap: 12px;\n",
              "    }\n",
              "\n",
              "    .colab-df-convert {\n",
              "      background-color: #E8F0FE;\n",
              "      border: none;\n",
              "      border-radius: 50%;\n",
              "      cursor: pointer;\n",
              "      display: none;\n",
              "      fill: #1967D2;\n",
              "      height: 32px;\n",
              "      padding: 0 0 0 0;\n",
              "      width: 32px;\n",
              "    }\n",
              "\n",
              "    .colab-df-convert:hover {\n",
              "      background-color: #E2EBFA;\n",
              "      box-shadow: 0px 1px 2px rgba(60, 64, 67, 0.3), 0px 1px 3px 1px rgba(60, 64, 67, 0.15);\n",
              "      fill: #174EA6;\n",
              "    }\n",
              "\n",
              "    [theme=dark] .colab-df-convert {\n",
              "      background-color: #3B4455;\n",
              "      fill: #D2E3FC;\n",
              "    }\n",
              "\n",
              "    [theme=dark] .colab-df-convert:hover {\n",
              "      background-color: #434B5C;\n",
              "      box-shadow: 0px 1px 3px 1px rgba(0, 0, 0, 0.15);\n",
              "      filter: drop-shadow(0px 1px 2px rgba(0, 0, 0, 0.3));\n",
              "      fill: #FFFFFF;\n",
              "    }\n",
              "  </style>\n",
              "\n",
              "      <script>\n",
              "        const buttonEl =\n",
              "          document.querySelector('#df-8ad2861b-ead4-4659-b727-498e16616896 button.colab-df-convert');\n",
              "        buttonEl.style.display =\n",
              "          google.colab.kernel.accessAllowed ? 'block' : 'none';\n",
              "\n",
              "        async function convertToInteractive(key) {\n",
              "          const element = document.querySelector('#df-8ad2861b-ead4-4659-b727-498e16616896');\n",
              "          const dataTable =\n",
              "            await google.colab.kernel.invokeFunction('convertToInteractive',\n",
              "                                                     [key], {});\n",
              "          if (!dataTable) return;\n",
              "\n",
              "          const docLinkHtml = 'Like what you see? Visit the ' +\n",
              "            '<a target=\"_blank\" href=https://colab.research.google.com/notebooks/data_table.ipynb>data table notebook</a>'\n",
              "            + ' to learn more about interactive tables.';\n",
              "          element.innerHTML = '';\n",
              "          dataTable['output_type'] = 'display_data';\n",
              "          await google.colab.output.renderOutput(dataTable, element);\n",
              "          const docLink = document.createElement('div');\n",
              "          docLink.innerHTML = docLinkHtml;\n",
              "          element.appendChild(docLink);\n",
              "        }\n",
              "      </script>\n",
              "    </div>\n",
              "  </div>\n",
              "  "
            ]
          },
          "metadata": {},
          "execution_count": 2
        }
      ]
    },
    {
      "cell_type": "markdown",
      "source": [
        "Definition of primes function (or derivation operators)"
      ],
      "metadata": {
        "id": "ktxaFyHT90B2"
      }
    },
    {
      "cell_type": "code",
      "source": [
        "def d(A, is_feat, df):\n",
        "    \"\"\"\n",
        "    A: list of feature names or object names\n",
        "    is_feat: whether list A contains feature names of object names\n",
        "    df: object/feature matrix\n",
        "    \"\"\"\n",
        "    if len(A) > 0:\n",
        "        if not is_feat:\n",
        "            answer = []\n",
        "            for col in df.columns:\n",
        "                subm = df.loc[A, col]\n",
        "                if subm.sum() == subm.count():\n",
        "                    answer.append(col)\n",
        "        else:\n",
        "            answer = []\n",
        "            for ind in df.index:\n",
        "                subm = df.loc[ind, A]\n",
        "                if subm.sum() == subm.count():\n",
        "                    answer.append(ind)\n",
        "        return answer\n",
        "    else:\n",
        "        if is_feat:\n",
        "            return list(df.index)\n",
        "        else:\n",
        "            return list(df.columns)\n",
        "\n",
        "def dd(A, is_feat, df):\n",
        "    return d(d(A, is_feat, df), not is_feat, df)"
      ],
      "metadata": {
        "id": "xMmlMx1tI4Ds"
      },
      "execution_count": 3,
      "outputs": []
    },
    {
      "cell_type": "markdown",
      "source": [
        "CbO algorithm from \"Algorithms for the Construction of Concept Lattices and Their Diagram Graphs\""
      ],
      "metadata": {
        "id": "9Z7V3x0k_kk-"
      }
    },
    {
      "cell_type": "code",
      "source": [
        "def Process(A, g, C, D, df):\n",
        "    \"\"\"\n",
        "    additional parameter df: object/feature matrix\n",
        "    \"\"\"\n",
        "    if not [h for h in C if h not in A and h < g]:\n",
        "        L.append((C, D))\n",
        "        for f in [h for h in df.index if h not in C and g < h]:\n",
        "            Z = C + [f]\n",
        "            dsf = d([f], False, df)\n",
        "            Y = [x for x in D if x in dsf]\n",
        "            X = d(Y, True, df)\n",
        "            Process(Z, f, X, Y, df)"
      ],
      "metadata": {
        "id": "xidqn9IaIpr8"
      },
      "execution_count": 4,
      "outputs": []
    },
    {
      "cell_type": "markdown",
      "source": [
        "Concepts for Task 1"
      ],
      "metadata": {
        "id": "EznmS3PS_sRl"
      }
    },
    {
      "cell_type": "code",
      "source": [
        "L = []\n",
        "for g in matrix.index:\n",
        "    Process([g], g, dd([g], False, matrix), d([g], False, matrix), matrix)\n",
        "L"
      ],
      "metadata": {
        "colab": {
          "base_uri": "https://localhost:8080/"
        },
        "id": "OX-y4HUENEZl",
        "outputId": "b58a3b01-d262-4501-8cf3-214dd6077ef1"
      },
      "execution_count": 5,
      "outputs": [
        {
          "output_type": "execute_result",
          "data": {
            "text/plain": [
              "[([1], ['b', 'c', 'd']),\n",
              " ([1, 2, 3], ['b', 'c']),\n",
              " ([1, 2, 3, 4, 5], []),\n",
              " ([1, 2, 3, 5], ['b']),\n",
              " ([1, 4, 5], ['d']),\n",
              " ([1, 5], ['b', 'd']),\n",
              " ([2], ['a', 'b', 'c']),\n",
              " ([2, 4, 5], ['a']),\n",
              " ([2, 5], ['a', 'b']),\n",
              " ([4, 5], ['a', 'd']),\n",
              " ([5], ['a', 'b', 'd'])]"
            ]
          },
          "metadata": {},
          "execution_count": 5
        }
      ]
    },
    {
      "cell_type": "code",
      "source": [
        "for l in L:\n",
        "    print('(\\{' + ', '.join([str(x) for x in l[0]]) + '\\}, \\{' + ', '.join(l[1]) + '\\})\\\\newline')"
      ],
      "metadata": {
        "colab": {
          "base_uri": "https://localhost:8080/"
        },
        "id": "S5o6s7XcTiFN",
        "outputId": "c763d1d5-5d8c-4701-926b-159755dc9663"
      },
      "execution_count": 6,
      "outputs": [
        {
          "output_type": "stream",
          "name": "stdout",
          "text": [
            "(\\{1\\}, \\{b, c, d\\})\\newline\n",
            "(\\{1, 2, 3\\}, \\{b, c\\})\\newline\n",
            "(\\{1, 2, 3, 4, 5\\}, \\{\\})\\newline\n",
            "(\\{1, 2, 3, 5\\}, \\{b\\})\\newline\n",
            "(\\{1, 4, 5\\}, \\{d\\})\\newline\n",
            "(\\{1, 5\\}, \\{b, d\\})\\newline\n",
            "(\\{2\\}, \\{a, b, c\\})\\newline\n",
            "(\\{2, 4, 5\\}, \\{a\\})\\newline\n",
            "(\\{2, 5\\}, \\{a, b\\})\\newline\n",
            "(\\{4, 5\\}, \\{a, d\\})\\newline\n",
            "(\\{5\\}, \\{a, b, d\\})\\newline\n"
          ]
        }
      ]
    },
    {
      "cell_type": "markdown",
      "source": [
        "# Generator implication cover"
      ],
      "metadata": {
        "id": "wZJbWDU-fs9l"
      }
    },
    {
      "cell_type": "markdown",
      "source": [
        "Function for getting all subsets"
      ],
      "metadata": {
        "id": "7-BlGKiQ_xNV"
      }
    },
    {
      "cell_type": "code",
      "source": [
        "import itertools\n",
        "\n",
        "def get_combs(A, full=True):\n",
        "    \"\"\"\n",
        "    A: list from which we need to find combinations\n",
        "    full: flag; if full=True then A itself is included in the output combinations\n",
        "    \"\"\"\n",
        "    combs = []\n",
        "    finish = len(A) + 1 if full else len(A)\n",
        "    for i in range(1, finish):\n",
        "        combs += list(itertools.combinations(A, i))\n",
        "\n",
        "    combs = [list(x) for x in combs]\n",
        "\n",
        "    return combs"
      ],
      "metadata": {
        "id": "d8o4KlPqhnwG"
      },
      "execution_count": 7,
      "outputs": []
    },
    {
      "cell_type": "markdown",
      "source": [
        "Util function for finding generator implication cover. Their names describe them well"
      ],
      "metadata": {
        "id": "Im9D3aJDAO7u"
      }
    },
    {
      "cell_type": "code",
      "source": [
        "def is_generator(B, D, df):\n",
        "    return dd(B, True, df) == B and dd(D, True, df) == B\n",
        "\n",
        "def is_minimal_generator(B, D, df):\n",
        "    if is_generator(B, D, df):\n",
        "        Es = get_combs(D, full=False)\n",
        "        ddD = dd(D, True, df)\n",
        "        for E in Es:\n",
        "            if dd(E, True, df) == ddD:\n",
        "                return False\n",
        "        return True\n",
        "    else:\n",
        "        return False\n",
        "\n",
        "def is_nontrivial_generator(B, D, df):\n",
        "    return is_generator(B, D, df) and D != dd(D, True, df)\n",
        "\n",
        "def nmingen(B, df):\n",
        "    answer = []\n",
        "\n",
        "    Ds = get_combs(B)\n",
        "    for D in Ds:\n",
        "        if is_minimal_generator(B, D, df) and is_nontrivial_generator(B, D, df):\n",
        "            answer.append(D)\n",
        "\n",
        "    return answer"
      ],
      "metadata": {
        "id": "6k1DbseYiD62"
      },
      "execution_count": 8,
      "outputs": []
    },
    {
      "cell_type": "markdown",
      "source": [
        "Generator implication cover. I just used the definition from the slide"
      ],
      "metadata": {
        "id": "r6B2dhAeAiU2"
      }
    },
    {
      "cell_type": "code",
      "source": [
        "Bs = get_combs(matrix.columns)\n",
        "\n",
        "GIC = []\n",
        "\n",
        "for B in Bs:\n",
        "    ddB = dd(B, True, matrix)\n",
        "    if B in nmingen(ddB, matrix):\n",
        "        Q = [x for x in ddB if x not in B]\n",
        "        GIC.append((B, Q))\n",
        "\n",
        "GIC"
      ],
      "metadata": {
        "colab": {
          "base_uri": "https://localhost:8080/"
        },
        "id": "qTrm2RapfruO",
        "outputId": "964e3c0b-88ba-419d-cfd7-40d3b9aa8de7"
      },
      "execution_count": 9,
      "outputs": [
        {
          "output_type": "execute_result",
          "data": {
            "text/plain": [
              "[(['c'], ['b']),\n",
              " (['a', 'c'], ['b']),\n",
              " (['c', 'd'], ['b']),\n",
              " (['a', 'c', 'd'], ['b'])]"
            ]
          },
          "metadata": {},
          "execution_count": 9
        }
      ]
    },
    {
      "cell_type": "markdown",
      "source": [
        "# Proper premise base of implications"
      ],
      "metadata": {
        "id": "ALgtGxLesZQv"
      }
    },
    {
      "cell_type": "markdown",
      "source": [
        "I just used the definition from the slides."
      ],
      "metadata": {
        "id": "2VP16DlPA8fG"
      }
    },
    {
      "cell_type": "code",
      "source": [
        "Bs = get_combs(matrix.columns)\n",
        "\n",
        "PPB = []\n",
        "\n",
        "for B in Bs:\n",
        "    total = B.copy()\n",
        "    if len(B) > 0:\n",
        "        Bns = list(itertools.combinations(B, len(B) - 1))\n",
        "        Bns = [list(x) for x in Bns]\n",
        "        for Bn in Bns:\n",
        "            total += dd(Bn, True, matrix)\n",
        "\n",
        "        total = sorted(list(set(total)))\n",
        "        ddB = dd(B, True, matrix)\n",
        "        if ddB != total:\n",
        "            PPB.append((B, ddB))\n",
        "\n",
        "PPB"
      ],
      "metadata": {
        "colab": {
          "base_uri": "https://localhost:8080/"
        },
        "id": "8efCy1rosY-I",
        "outputId": "5e5f4b26-73eb-4bee-d9d5-dc7bed58d0fd"
      },
      "execution_count": 10,
      "outputs": [
        {
          "output_type": "execute_result",
          "data": {
            "text/plain": [
              "[(['c'], ['b', 'c'])]"
            ]
          },
          "metadata": {},
          "execution_count": 10
        }
      ]
    },
    {
      "cell_type": "markdown",
      "source": [
        "# Minimum (Duquenne-Guigues) basis of implications"
      ],
      "metadata": {
        "id": "1pfCXVF94qgR"
      }
    },
    {
      "cell_type": "markdown",
      "source": [
        "Defining inital matrix and converting it to binary  "
      ],
      "metadata": {
        "id": "A3GITBT_BHm2"
      }
    },
    {
      "cell_type": "code",
      "source": [
        "m_sym = pd.DataFrame(\n",
        "    columns=['a', 'b', 'c', 'd', 'e'],\n",
        "    index=[1, 2, 3, 4, 5],\n",
        "    data=[\n",
        "        ['u', 'v', 't', 'r', 'q'],\n",
        "        ['t', 't', 'q', 'r', 'q'],\n",
        "        ['q', 't', 'q', 't', 't'],\n",
        "        ['r', 'q', 'q', 'u', 'u'],\n",
        "        ['q', 'v', 't', 'r', 't'],\n",
        "    ]\n",
        ")\n",
        "\n",
        "\n",
        "\n",
        "pairs = itertools.combinations(m_sym.index, 2)\n",
        "pair_to_bin = {}\n",
        "for pair in pairs:\n",
        "    name = str(pair[0]) + str(pair[1])\n",
        "    pair_to_bin[name] = list((m_sym.loc[pair[0]] == m_sym.loc[pair[1]]).astype(int))\n",
        "\n",
        "m_bin = pd.DataFrame.from_dict(pair_to_bin, orient='index')\n",
        "m_bin.columns = m_sym.columns\n",
        "m_bin"
      ],
      "metadata": {
        "colab": {
          "base_uri": "https://localhost:8080/",
          "height": 363
        },
        "id": "PpsvBCuf4hKB",
        "outputId": "b1bbc081-f79e-44f7-ded9-d91a43c7a11a"
      },
      "execution_count": 11,
      "outputs": [
        {
          "output_type": "execute_result",
          "data": {
            "text/plain": [
              "    a  b  c  d  e\n",
              "12  0  0  0  1  1\n",
              "13  0  0  0  0  0\n",
              "14  0  0  0  0  0\n",
              "15  0  1  1  1  0\n",
              "23  0  1  1  0  0\n",
              "24  0  0  1  0  0\n",
              "25  0  0  0  1  0\n",
              "34  0  0  1  0  0\n",
              "35  1  0  0  0  1\n",
              "45  0  0  0  0  0"
            ],
            "text/html": [
              "\n",
              "  <div id=\"df-c6f80e93-bb55-4e9a-b1b2-bfbe042262ee\">\n",
              "    <div class=\"colab-df-container\">\n",
              "      <div>\n",
              "<style scoped>\n",
              "    .dataframe tbody tr th:only-of-type {\n",
              "        vertical-align: middle;\n",
              "    }\n",
              "\n",
              "    .dataframe tbody tr th {\n",
              "        vertical-align: top;\n",
              "    }\n",
              "\n",
              "    .dataframe thead th {\n",
              "        text-align: right;\n",
              "    }\n",
              "</style>\n",
              "<table border=\"1\" class=\"dataframe\">\n",
              "  <thead>\n",
              "    <tr style=\"text-align: right;\">\n",
              "      <th></th>\n",
              "      <th>a</th>\n",
              "      <th>b</th>\n",
              "      <th>c</th>\n",
              "      <th>d</th>\n",
              "      <th>e</th>\n",
              "    </tr>\n",
              "  </thead>\n",
              "  <tbody>\n",
              "    <tr>\n",
              "      <th>12</th>\n",
              "      <td>0</td>\n",
              "      <td>0</td>\n",
              "      <td>0</td>\n",
              "      <td>1</td>\n",
              "      <td>1</td>\n",
              "    </tr>\n",
              "    <tr>\n",
              "      <th>13</th>\n",
              "      <td>0</td>\n",
              "      <td>0</td>\n",
              "      <td>0</td>\n",
              "      <td>0</td>\n",
              "      <td>0</td>\n",
              "    </tr>\n",
              "    <tr>\n",
              "      <th>14</th>\n",
              "      <td>0</td>\n",
              "      <td>0</td>\n",
              "      <td>0</td>\n",
              "      <td>0</td>\n",
              "      <td>0</td>\n",
              "    </tr>\n",
              "    <tr>\n",
              "      <th>15</th>\n",
              "      <td>0</td>\n",
              "      <td>1</td>\n",
              "      <td>1</td>\n",
              "      <td>1</td>\n",
              "      <td>0</td>\n",
              "    </tr>\n",
              "    <tr>\n",
              "      <th>23</th>\n",
              "      <td>0</td>\n",
              "      <td>1</td>\n",
              "      <td>1</td>\n",
              "      <td>0</td>\n",
              "      <td>0</td>\n",
              "    </tr>\n",
              "    <tr>\n",
              "      <th>24</th>\n",
              "      <td>0</td>\n",
              "      <td>0</td>\n",
              "      <td>1</td>\n",
              "      <td>0</td>\n",
              "      <td>0</td>\n",
              "    </tr>\n",
              "    <tr>\n",
              "      <th>25</th>\n",
              "      <td>0</td>\n",
              "      <td>0</td>\n",
              "      <td>0</td>\n",
              "      <td>1</td>\n",
              "      <td>0</td>\n",
              "    </tr>\n",
              "    <tr>\n",
              "      <th>34</th>\n",
              "      <td>0</td>\n",
              "      <td>0</td>\n",
              "      <td>1</td>\n",
              "      <td>0</td>\n",
              "      <td>0</td>\n",
              "    </tr>\n",
              "    <tr>\n",
              "      <th>35</th>\n",
              "      <td>1</td>\n",
              "      <td>0</td>\n",
              "      <td>0</td>\n",
              "      <td>0</td>\n",
              "      <td>1</td>\n",
              "    </tr>\n",
              "    <tr>\n",
              "      <th>45</th>\n",
              "      <td>0</td>\n",
              "      <td>0</td>\n",
              "      <td>0</td>\n",
              "      <td>0</td>\n",
              "      <td>0</td>\n",
              "    </tr>\n",
              "  </tbody>\n",
              "</table>\n",
              "</div>\n",
              "      <button class=\"colab-df-convert\" onclick=\"convertToInteractive('df-c6f80e93-bb55-4e9a-b1b2-bfbe042262ee')\"\n",
              "              title=\"Convert this dataframe to an interactive table.\"\n",
              "              style=\"display:none;\">\n",
              "        \n",
              "  <svg xmlns=\"http://www.w3.org/2000/svg\" height=\"24px\"viewBox=\"0 0 24 24\"\n",
              "       width=\"24px\">\n",
              "    <path d=\"M0 0h24v24H0V0z\" fill=\"none\"/>\n",
              "    <path d=\"M18.56 5.44l.94 2.06.94-2.06 2.06-.94-2.06-.94-.94-2.06-.94 2.06-2.06.94zm-11 1L8.5 8.5l.94-2.06 2.06-.94-2.06-.94L8.5 2.5l-.94 2.06-2.06.94zm10 10l.94 2.06.94-2.06 2.06-.94-2.06-.94-.94-2.06-.94 2.06-2.06.94z\"/><path d=\"M17.41 7.96l-1.37-1.37c-.4-.4-.92-.59-1.43-.59-.52 0-1.04.2-1.43.59L10.3 9.45l-7.72 7.72c-.78.78-.78 2.05 0 2.83L4 21.41c.39.39.9.59 1.41.59.51 0 1.02-.2 1.41-.59l7.78-7.78 2.81-2.81c.8-.78.8-2.07 0-2.86zM5.41 20L4 18.59l7.72-7.72 1.47 1.35L5.41 20z\"/>\n",
              "  </svg>\n",
              "      </button>\n",
              "      \n",
              "  <style>\n",
              "    .colab-df-container {\n",
              "      display:flex;\n",
              "      flex-wrap:wrap;\n",
              "      gap: 12px;\n",
              "    }\n",
              "\n",
              "    .colab-df-convert {\n",
              "      background-color: #E8F0FE;\n",
              "      border: none;\n",
              "      border-radius: 50%;\n",
              "      cursor: pointer;\n",
              "      display: none;\n",
              "      fill: #1967D2;\n",
              "      height: 32px;\n",
              "      padding: 0 0 0 0;\n",
              "      width: 32px;\n",
              "    }\n",
              "\n",
              "    .colab-df-convert:hover {\n",
              "      background-color: #E2EBFA;\n",
              "      box-shadow: 0px 1px 2px rgba(60, 64, 67, 0.3), 0px 1px 3px 1px rgba(60, 64, 67, 0.15);\n",
              "      fill: #174EA6;\n",
              "    }\n",
              "\n",
              "    [theme=dark] .colab-df-convert {\n",
              "      background-color: #3B4455;\n",
              "      fill: #D2E3FC;\n",
              "    }\n",
              "\n",
              "    [theme=dark] .colab-df-convert:hover {\n",
              "      background-color: #434B5C;\n",
              "      box-shadow: 0px 1px 3px 1px rgba(0, 0, 0, 0.15);\n",
              "      filter: drop-shadow(0px 1px 2px rgba(0, 0, 0, 0.3));\n",
              "      fill: #FFFFFF;\n",
              "    }\n",
              "  </style>\n",
              "\n",
              "      <script>\n",
              "        const buttonEl =\n",
              "          document.querySelector('#df-c6f80e93-bb55-4e9a-b1b2-bfbe042262ee button.colab-df-convert');\n",
              "        buttonEl.style.display =\n",
              "          google.colab.kernel.accessAllowed ? 'block' : 'none';\n",
              "\n",
              "        async function convertToInteractive(key) {\n",
              "          const element = document.querySelector('#df-c6f80e93-bb55-4e9a-b1b2-bfbe042262ee');\n",
              "          const dataTable =\n",
              "            await google.colab.kernel.invokeFunction('convertToInteractive',\n",
              "                                                     [key], {});\n",
              "          if (!dataTable) return;\n",
              "\n",
              "          const docLinkHtml = 'Like what you see? Visit the ' +\n",
              "            '<a target=\"_blank\" href=https://colab.research.google.com/notebooks/data_table.ipynb>data table notebook</a>'\n",
              "            + ' to learn more about interactive tables.';\n",
              "          element.innerHTML = '';\n",
              "          dataTable['output_type'] = 'display_data';\n",
              "          await google.colab.output.renderOutput(dataTable, element);\n",
              "          const docLink = document.createElement('div');\n",
              "          docLink.innerHTML = docLinkHtml;\n",
              "          element.appendChild(docLink);\n",
              "        }\n",
              "      </script>\n",
              "    </div>\n",
              "  </div>\n",
              "  "
            ]
          },
          "metadata": {},
          "execution_count": 11
        }
      ]
    },
    {
      "cell_type": "code",
      "source": [
        "print(m_bin.to_latex())\n",
        "print()\n",
        "print(m_sym.to_latex())"
      ],
      "metadata": {
        "colab": {
          "base_uri": "https://localhost:8080/"
        },
        "id": "wBCOyzFb6_hK",
        "outputId": "d3c83c9c-909c-4789-968d-27e7346d6346"
      },
      "execution_count": 12,
      "outputs": [
        {
          "output_type": "stream",
          "name": "stdout",
          "text": [
            "\\begin{tabular}{lrrrrr}\n",
            "\\toprule\n",
            "{} &  a &  b &  c &  d &  e \\\\\n",
            "\\midrule\n",
            "12 &  0 &  0 &  0 &  1 &  1 \\\\\n",
            "13 &  0 &  0 &  0 &  0 &  0 \\\\\n",
            "14 &  0 &  0 &  0 &  0 &  0 \\\\\n",
            "15 &  0 &  1 &  1 &  1 &  0 \\\\\n",
            "23 &  0 &  1 &  1 &  0 &  0 \\\\\n",
            "24 &  0 &  0 &  1 &  0 &  0 \\\\\n",
            "25 &  0 &  0 &  0 &  1 &  0 \\\\\n",
            "34 &  0 &  0 &  1 &  0 &  0 \\\\\n",
            "35 &  1 &  0 &  0 &  0 &  1 \\\\\n",
            "45 &  0 &  0 &  0 &  0 &  0 \\\\\n",
            "\\bottomrule\n",
            "\\end{tabular}\n",
            "\n",
            "\n",
            "\\begin{tabular}{llllll}\n",
            "\\toprule\n",
            "{} &  a &  b &  c &  d &  e \\\\\n",
            "\\midrule\n",
            "1 &  u &  v &  t &  r &  q \\\\\n",
            "2 &  t &  t &  q &  r &  q \\\\\n",
            "3 &  q &  t &  q &  t &  t \\\\\n",
            "4 &  r &  q &  q &  u &  u \\\\\n",
            "5 &  q &  v &  t &  r &  t \\\\\n",
            "\\bottomrule\n",
            "\\end{tabular}\n",
            "\n"
          ]
        }
      ]
    },
    {
      "cell_type": "markdown",
      "source": [
        "Manual matrix simplification "
      ],
      "metadata": {
        "id": "sRJbe_17BWJH"
      }
    },
    {
      "cell_type": "code",
      "source": [
        "m_bin = m_bin.loc[['12', '15', '23', '24', '25', '35']]"
      ],
      "metadata": {
        "id": "O0NLuv1W_RXq"
      },
      "execution_count": 13,
      "outputs": []
    },
    {
      "cell_type": "markdown",
      "source": [
        "Function that returns true if given subset of attributes is pseudointent"
      ],
      "metadata": {
        "id": "K34CL-FoBuA-"
      }
    },
    {
      "cell_type": "code",
      "source": [
        "def pseudo_intent(P, df):\n",
        "    ddP = dd(P, True, df)\n",
        "    if P != ddP:\n",
        "        if len(P) == 1:\n",
        "            Qs = [[]]\n",
        "        else:\n",
        "            Qs = get_combs(P, False)\n",
        "        for Q in Qs:\n",
        "            if pseudo_intent(Q, df) and dd(Q, True, df) not in Qs:\n",
        "                return False\n",
        "        return True\n",
        "    else:\n",
        "        return False"
      ],
      "metadata": {
        "id": "8MuyfJjCs67c"
      },
      "execution_count": 14,
      "outputs": []
    },
    {
      "cell_type": "markdown",
      "source": [
        "We search for Minimum (Duquenne-Guigues) basis of implications using `pseudo_inten` function defined above"
      ],
      "metadata": {
        "id": "wTtEGGspCKWu"
      }
    },
    {
      "cell_type": "code",
      "source": [
        "Fs = get_combs(m_bin.columns, True)\n",
        "\n",
        "for F in Fs:\n",
        "    if pseudo_intent(F, m_bin):\n",
        "        print('$', ''.join(F), '\\\\rightarrow', ''.join(dd(F, True, m_bin)), '$\\\\newline')"
      ],
      "metadata": {
        "colab": {
          "base_uri": "https://localhost:8080/"
        },
        "id": "wNLOjl2G3m2t",
        "outputId": "3f3d5b2b-d17d-4c44-fe0c-f55e0299d5c7"
      },
      "execution_count": 15,
      "outputs": [
        {
          "output_type": "stream",
          "name": "stdout",
          "text": [
            "$ a \\rightarrow ae $\\newline\n",
            "$ b \\rightarrow bc $\\newline\n",
            "$ cd \\rightarrow bcd $\\newline\n",
            "$ ce \\rightarrow abcde $\\newline\n",
            "$ ade \\rightarrow abcde $\\newline\n"
          ]
        }
      ]
    }
  ]
}