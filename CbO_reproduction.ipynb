{
  "nbformat": 4,
  "nbformat_minor": 0,
  "metadata": {
    "colab": {
      "provenance": [],
      "authorship_tag": "ABX9TyM0CBruzmkf/SOeEqTlB1ar",
      "include_colab_link": true
    },
    "kernelspec": {
      "name": "python3",
      "display_name": "Python 3"
    },
    "language_info": {
      "name": "python"
    }
  },
  "cells": [
    {
      "cell_type": "markdown",
      "metadata": {
        "id": "view-in-github",
        "colab_type": "text"
      },
      "source": [
        "<a href=\"https://colab.research.google.com/github/Kridr/HW_OSDA_HSE/blob/main/CbO_reproduction.ipynb\" target=\"_parent\"><img src=\"https://colab.research.google.com/assets/colab-badge.svg\" alt=\"Open In Colab\"/></a>"
      ]
    },
    {
      "cell_type": "markdown",
      "source": [
        "This is reproduction of Close-by-One algorithm from \"Algorithms for the Construction of Concept Lattices and Their Diagram Graphs\"\n",
        "\n",
        "Made by Lyalikov Nikita"
      ],
      "metadata": {
        "id": "u6KvLwgBR20l"
      }
    },
    {
      "cell_type": "code",
      "execution_count": 1,
      "metadata": {
        "id": "guvblscRFnYe"
      },
      "outputs": [],
      "source": [
        "import pandas as pd"
      ]
    },
    {
      "cell_type": "code",
      "source": [
        "matrix = pd.DataFrame(\n",
        "    columns=['a', 'b', 'c', 'd'],\n",
        "    index=[1, 2, 3, 4, 5],\n",
        "    data=[\n",
        "        [0, 1, 1, 1],\n",
        "        [1, 1, 1, 0],\n",
        "        [0, 1, 1, 0],\n",
        "        [1, 0, 0, 1],\n",
        "        [1, 1, 0, 1]\n",
        "    ]\n",
        ")\n",
        "\n",
        "matrix"
      ],
      "metadata": {
        "colab": {
          "base_uri": "https://localhost:8080/",
          "height": 206
        },
        "id": "lW9vLjwkIAek",
        "outputId": "33602941-735f-4b6a-bfbb-0e4a37b3f75a"
      },
      "execution_count": 74,
      "outputs": [
        {
          "output_type": "execute_result",
          "data": {
            "text/plain": [
              "   a  b  c  d\n",
              "1  0  1  1  1\n",
              "2  1  1  1  0\n",
              "3  0  1  1  0\n",
              "4  1  0  0  1\n",
              "5  1  1  0  1"
            ],
            "text/html": [
              "\n",
              "  <div id=\"df-cff67570-3832-4e47-9cc2-cf7c4b69264a\">\n",
              "    <div class=\"colab-df-container\">\n",
              "      <div>\n",
              "<style scoped>\n",
              "    .dataframe tbody tr th:only-of-type {\n",
              "        vertical-align: middle;\n",
              "    }\n",
              "\n",
              "    .dataframe tbody tr th {\n",
              "        vertical-align: top;\n",
              "    }\n",
              "\n",
              "    .dataframe thead th {\n",
              "        text-align: right;\n",
              "    }\n",
              "</style>\n",
              "<table border=\"1\" class=\"dataframe\">\n",
              "  <thead>\n",
              "    <tr style=\"text-align: right;\">\n",
              "      <th></th>\n",
              "      <th>a</th>\n",
              "      <th>b</th>\n",
              "      <th>c</th>\n",
              "      <th>d</th>\n",
              "    </tr>\n",
              "  </thead>\n",
              "  <tbody>\n",
              "    <tr>\n",
              "      <th>1</th>\n",
              "      <td>0</td>\n",
              "      <td>1</td>\n",
              "      <td>1</td>\n",
              "      <td>1</td>\n",
              "    </tr>\n",
              "    <tr>\n",
              "      <th>2</th>\n",
              "      <td>1</td>\n",
              "      <td>1</td>\n",
              "      <td>1</td>\n",
              "      <td>0</td>\n",
              "    </tr>\n",
              "    <tr>\n",
              "      <th>3</th>\n",
              "      <td>0</td>\n",
              "      <td>1</td>\n",
              "      <td>1</td>\n",
              "      <td>0</td>\n",
              "    </tr>\n",
              "    <tr>\n",
              "      <th>4</th>\n",
              "      <td>1</td>\n",
              "      <td>0</td>\n",
              "      <td>0</td>\n",
              "      <td>1</td>\n",
              "    </tr>\n",
              "    <tr>\n",
              "      <th>5</th>\n",
              "      <td>1</td>\n",
              "      <td>1</td>\n",
              "      <td>0</td>\n",
              "      <td>1</td>\n",
              "    </tr>\n",
              "  </tbody>\n",
              "</table>\n",
              "</div>\n",
              "      <button class=\"colab-df-convert\" onclick=\"convertToInteractive('df-cff67570-3832-4e47-9cc2-cf7c4b69264a')\"\n",
              "              title=\"Convert this dataframe to an interactive table.\"\n",
              "              style=\"display:none;\">\n",
              "        \n",
              "  <svg xmlns=\"http://www.w3.org/2000/svg\" height=\"24px\"viewBox=\"0 0 24 24\"\n",
              "       width=\"24px\">\n",
              "    <path d=\"M0 0h24v24H0V0z\" fill=\"none\"/>\n",
              "    <path d=\"M18.56 5.44l.94 2.06.94-2.06 2.06-.94-2.06-.94-.94-2.06-.94 2.06-2.06.94zm-11 1L8.5 8.5l.94-2.06 2.06-.94-2.06-.94L8.5 2.5l-.94 2.06-2.06.94zm10 10l.94 2.06.94-2.06 2.06-.94-2.06-.94-.94-2.06-.94 2.06-2.06.94z\"/><path d=\"M17.41 7.96l-1.37-1.37c-.4-.4-.92-.59-1.43-.59-.52 0-1.04.2-1.43.59L10.3 9.45l-7.72 7.72c-.78.78-.78 2.05 0 2.83L4 21.41c.39.39.9.59 1.41.59.51 0 1.02-.2 1.41-.59l7.78-7.78 2.81-2.81c.8-.78.8-2.07 0-2.86zM5.41 20L4 18.59l7.72-7.72 1.47 1.35L5.41 20z\"/>\n",
              "  </svg>\n",
              "      </button>\n",
              "      \n",
              "  <style>\n",
              "    .colab-df-container {\n",
              "      display:flex;\n",
              "      flex-wrap:wrap;\n",
              "      gap: 12px;\n",
              "    }\n",
              "\n",
              "    .colab-df-convert {\n",
              "      background-color: #E8F0FE;\n",
              "      border: none;\n",
              "      border-radius: 50%;\n",
              "      cursor: pointer;\n",
              "      display: none;\n",
              "      fill: #1967D2;\n",
              "      height: 32px;\n",
              "      padding: 0 0 0 0;\n",
              "      width: 32px;\n",
              "    }\n",
              "\n",
              "    .colab-df-convert:hover {\n",
              "      background-color: #E2EBFA;\n",
              "      box-shadow: 0px 1px 2px rgba(60, 64, 67, 0.3), 0px 1px 3px 1px rgba(60, 64, 67, 0.15);\n",
              "      fill: #174EA6;\n",
              "    }\n",
              "\n",
              "    [theme=dark] .colab-df-convert {\n",
              "      background-color: #3B4455;\n",
              "      fill: #D2E3FC;\n",
              "    }\n",
              "\n",
              "    [theme=dark] .colab-df-convert:hover {\n",
              "      background-color: #434B5C;\n",
              "      box-shadow: 0px 1px 3px 1px rgba(0, 0, 0, 0.15);\n",
              "      filter: drop-shadow(0px 1px 2px rgba(0, 0, 0, 0.3));\n",
              "      fill: #FFFFFF;\n",
              "    }\n",
              "  </style>\n",
              "\n",
              "      <script>\n",
              "        const buttonEl =\n",
              "          document.querySelector('#df-cff67570-3832-4e47-9cc2-cf7c4b69264a button.colab-df-convert');\n",
              "        buttonEl.style.display =\n",
              "          google.colab.kernel.accessAllowed ? 'block' : 'none';\n",
              "\n",
              "        async function convertToInteractive(key) {\n",
              "          const element = document.querySelector('#df-cff67570-3832-4e47-9cc2-cf7c4b69264a');\n",
              "          const dataTable =\n",
              "            await google.colab.kernel.invokeFunction('convertToInteractive',\n",
              "                                                     [key], {});\n",
              "          if (!dataTable) return;\n",
              "\n",
              "          const docLinkHtml = 'Like what you see? Visit the ' +\n",
              "            '<a target=\"_blank\" href=https://colab.research.google.com/notebooks/data_table.ipynb>data table notebook</a>'\n",
              "            + ' to learn more about interactive tables.';\n",
              "          element.innerHTML = '';\n",
              "          dataTable['output_type'] = 'display_data';\n",
              "          await google.colab.output.renderOutput(dataTable, element);\n",
              "          const docLink = document.createElement('div');\n",
              "          docLink.innerHTML = docLinkHtml;\n",
              "          element.appendChild(docLink);\n",
              "        }\n",
              "      </script>\n",
              "    </div>\n",
              "  </div>\n",
              "  "
            ]
          },
          "metadata": {},
          "execution_count": 74
        }
      ]
    },
    {
      "cell_type": "code",
      "source": [
        "def d(A):\n",
        "    if type(A[0]) == int:\n",
        "        answer = []\n",
        "        for col in matrix.columns:\n",
        "            subm = matrix.loc[A, col]\n",
        "            if subm.sum() == subm.count():\n",
        "                answer.append(col)\n",
        "    else:\n",
        "        answer = []\n",
        "        for ind in matrix.index:\n",
        "            subm = matrix.loc[ind, A]\n",
        "            if subm.sum() == subm.count():\n",
        "                answer.append(ind)\n",
        "    return answer\n",
        "\n",
        "def dd(A):\n",
        "    return d(d(A))"
      ],
      "metadata": {
        "id": "xMmlMx1tI4Ds"
      },
      "execution_count": 75,
      "outputs": []
    },
    {
      "cell_type": "code",
      "source": [
        "def Process(A, g, C, D):\n",
        "    if not [h for h in C if h not in A and h < g]:\n",
        "        L.append((C, D))\n",
        "        for f in [h for h in matrix.index if h not in C and g < h]:\n",
        "            Z = C + [f]\n",
        "            df = d([f])\n",
        "            Y = [x for x in D if x in df]\n",
        "            if Y:\n",
        "                X = d(Y)\n",
        "                Process(Z, f, X, Y)"
      ],
      "metadata": {
        "id": "xidqn9IaIpr8"
      },
      "execution_count": 86,
      "outputs": []
    },
    {
      "cell_type": "code",
      "source": [
        "L = []\n",
        "for g in matrix.index:\n",
        "    Process([g], g, dd([g]), d([g]))\n",
        "L"
      ],
      "metadata": {
        "colab": {
          "base_uri": "https://localhost:8080/"
        },
        "id": "OX-y4HUENEZl",
        "outputId": "4a27a869-0271-4dcc-ce0c-310c034bab46"
      },
      "execution_count": 87,
      "outputs": [
        {
          "output_type": "execute_result",
          "data": {
            "text/plain": [
              "[([1], ['b', 'c', 'd']),\n",
              " ([1, 2, 3], ['b', 'c']),\n",
              " ([1, 2, 3, 5], ['b']),\n",
              " ([1, 4, 5], ['d']),\n",
              " ([1, 5], ['b', 'd']),\n",
              " ([2], ['a', 'b', 'c']),\n",
              " ([2, 4, 5], ['a']),\n",
              " ([2, 5], ['a', 'b']),\n",
              " ([4, 5], ['a', 'd']),\n",
              " ([5], ['a', 'b', 'd'])]"
            ]
          },
          "metadata": {},
          "execution_count": 87
        }
      ]
    },
    {
      "cell_type": "code",
      "source": [
        "for l in L:\n",
        "    print('(\\{' + ', '.join([str(x) for x in l[0]]) + '\\}, \\{' + ', '.join(l[1]) + '\\})\\\\newline')"
      ],
      "metadata": {
        "colab": {
          "base_uri": "https://localhost:8080/"
        },
        "id": "S5o6s7XcTiFN",
        "outputId": "178e1251-5f24-4446-8061-ce4f2edab8d3"
      },
      "execution_count": 93,
      "outputs": [
        {
          "output_type": "stream",
          "name": "stdout",
          "text": [
            "(\\{1\\}, \\{b, c, d\\})\\newline\n",
            "(\\{1, 2, 3\\}, \\{b, c\\})\\newline\n",
            "(\\{1, 2, 3, 5\\}, \\{b\\})\\newline\n",
            "(\\{1, 4, 5\\}, \\{d\\})\\newline\n",
            "(\\{1, 5\\}, \\{b, d\\})\\newline\n",
            "(\\{2\\}, \\{a, b, c\\})\\newline\n",
            "(\\{2, 4, 5\\}, \\{a\\})\\newline\n",
            "(\\{2, 5\\}, \\{a, b\\})\\newline\n",
            "(\\{4, 5\\}, \\{a, d\\})\\newline\n",
            "(\\{5\\}, \\{a, b, d\\})\\newline\n"
          ]
        }
      ]
    }
  ]
}